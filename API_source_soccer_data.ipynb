{
 "cells": [
  {
   "cell_type": "code",
   "execution_count": 1,
   "id": "9c0ab539",
   "metadata": {},
   "outputs": [],
   "source": [
    "import requests\n",
    "import pandas as pd\n",
    "import json\n",
    "from sqlalchemy import create_engine\n",
    "import pymysql"
   ]
  },
  {
   "cell_type": "code",
   "execution_count": 2,
   "id": "146ee412",
   "metadata": {},
   "outputs": [],
   "source": [
    "# method to call different endpoints of the API with required query parameters\n",
    "def get_api_response(url, querystring):\n",
    "    url = url\n",
    "    headers = {\n",
    "        'x-apisports-key': \"9c6551813efbf7509b44d3751568ca3\",\n",
    "        'x-rapidapi-host': \"v3.football.api-sports.io\"\n",
    "    }\n",
    "    response = requests.request(\"GET\", url, headers=headers, params=querystring)\n",
    "\n",
    "    return response.text"
   ]
  },
  {
   "cell_type": "code",
   "execution_count": 3,
   "id": "858f619d",
   "metadata": {},
   "outputs": [],
   "source": [
    "hostname=\"localhost\"\n",
    "dbname=\"temp_py\"\n",
    "uname=\"root\"\n",
    "passw=\"root\""
   ]
  },
  {
   "cell_type": "code",
   "execution_count": 4,
   "id": "502498f3",
   "metadata": {},
   "outputs": [],
   "source": [
    "# create the mysql server engine\n",
    "engine = create_engine(\"mysql+pymysql://{user}:{pw}@{host}/{db}\".format(host=hostname, db=dbname, user=uname, pw=passw))"
   ]
  },
  {
   "cell_type": "code",
   "execution_count": 5,
   "id": "346cff21",
   "metadata": {},
   "outputs": [],
   "source": [
    "# Get all the list of leagues \n",
    "league_response=get_api_response(\"https://v3.football.api-sports.io/leagues\", '') "
   ]
  },
  {
   "cell_type": "code",
   "execution_count": 6,
   "id": "6ed365b3",
   "metadata": {},
   "outputs": [],
   "source": [
    "parsed=json.loads(league_response)\n",
    "# print(parsed)"
   ]
  },
  {
   "cell_type": "code",
   "execution_count": 7,
   "id": "04e3b8c3",
   "metadata": {},
   "outputs": [],
   "source": [
    "# create a separate list for each feature of the dataframe\n",
    "league_id=[]\n",
    "league_name=[]\n",
    "league_type=[]\n",
    "league_country=[]\n",
    "\n",
    "# traverse the response json object to fetch the values required \n",
    "for i in range(0,parsed['results']):\n",
    "    league_id.append(parsed['response'][i]['league']['id'])\n",
    "    league_name.append(parsed['response'][i]['league']['name'])\n",
    "    league_type.append(parsed['response'][i]['league']['type'])\n",
    "    league_country.append(parsed['response'][i]['country']['name'])\n"
   ]
  },
  {
   "cell_type": "code",
   "execution_count": 8,
   "id": "e05b3781",
   "metadata": {},
   "outputs": [
    {
     "data": {
      "text/html": [
       "<div>\n",
       "<style scoped>\n",
       "    .dataframe tbody tr th:only-of-type {\n",
       "        vertical-align: middle;\n",
       "    }\n",
       "\n",
       "    .dataframe tbody tr th {\n",
       "        vertical-align: top;\n",
       "    }\n",
       "\n",
       "    .dataframe thead th {\n",
       "        text-align: right;\n",
       "    }\n",
       "</style>\n",
       "<table border=\"1\" class=\"dataframe\">\n",
       "  <thead>\n",
       "    <tr style=\"text-align: right;\">\n",
       "      <th></th>\n",
       "      <th>ID</th>\n",
       "      <th>Name</th>\n",
       "      <th>Type</th>\n",
       "      <th>Country</th>\n",
       "    </tr>\n",
       "  </thead>\n",
       "  <tbody>\n",
       "    <tr>\n",
       "      <th>0</th>\n",
       "      <td>4</td>\n",
       "      <td>Euro Championship</td>\n",
       "      <td>Cup</td>\n",
       "      <td>World</td>\n",
       "    </tr>\n",
       "    <tr>\n",
       "      <th>1</th>\n",
       "      <td>21</td>\n",
       "      <td>Confederations Cup</td>\n",
       "      <td>Cup</td>\n",
       "      <td>World</td>\n",
       "    </tr>\n",
       "    <tr>\n",
       "      <th>2</th>\n",
       "      <td>61</td>\n",
       "      <td>Ligue 1</td>\n",
       "      <td>League</td>\n",
       "      <td>France</td>\n",
       "    </tr>\n",
       "    <tr>\n",
       "      <th>3</th>\n",
       "      <td>144</td>\n",
       "      <td>Jupiler Pro League</td>\n",
       "      <td>League</td>\n",
       "      <td>Belgium</td>\n",
       "    </tr>\n",
       "    <tr>\n",
       "      <th>4</th>\n",
       "      <td>71</td>\n",
       "      <td>Serie A</td>\n",
       "      <td>League</td>\n",
       "      <td>Brazil</td>\n",
       "    </tr>\n",
       "  </tbody>\n",
       "</table>\n",
       "</div>"
      ],
      "text/plain": [
       "    ID                Name    Type  Country\n",
       "0    4   Euro Championship     Cup    World\n",
       "1   21  Confederations Cup     Cup    World\n",
       "2   61             Ligue 1  League   France\n",
       "3  144  Jupiler Pro League  League  Belgium\n",
       "4   71             Serie A  League   Brazil"
      ]
     },
     "execution_count": 8,
     "metadata": {},
     "output_type": "execute_result"
    }
   ],
   "source": [
    "df_league=pd.DataFrame({\"ID\":league_id, \"Name\":league_name, \"Type\":league_type, \"Country\":league_country})\n",
    "df_league.head()"
   ]
  },
  {
   "cell_type": "code",
   "execution_count": 9,
   "id": "121f3863",
   "metadata": {},
   "outputs": [],
   "source": [
    "# fetch the list of injuries from 2021 season as the API started recording data from 2021 itself\n",
    "injury_response= get_api_response(\"https://v3.football.api-sports.io/injuries\", {\"league\":2, \"season\":2021}) \n",
    "# print(injury_response)"
   ]
  },
  {
   "cell_type": "code",
   "execution_count": 10,
   "id": "5c01e27b",
   "metadata": {},
   "outputs": [],
   "source": [
    "injury_player_id=[]\n",
    "injury_player_name=[]\n",
    "injury_type=[]\n",
    "injury_reason=[]\n",
    "injury_player_team_id=[]\n",
    "injury_player_team=[]\n",
    "injury_date=[]\n",
    "\n",
    "injury_parsed=json.loads(injury_response)\n",
    "\n",
    "for i in range(0,parsed['results']):\n",
    "    injury_player_id.append(injury_parsed['response'][i]['player']['id'])\n",
    "    injury_player_name.append(injury_parsed['response'][i]['player']['name'])\n",
    "    injury_type.append(injury_parsed['response'][i]['player']['type'])\n",
    "    injury_reason.append(injury_parsed['response'][i]['player']['reason'])\n",
    "    injury_player_team_id.append(injury_parsed['response'][i]['team']['id'])\n",
    "    injury_player_team.append(injury_parsed['response'][i]['team']['name'])\n",
    "    injury_date.append(injury_parsed['response'][i]['fixture']['date'])\n",
    "    "
   ]
  },
  {
   "cell_type": "code",
   "execution_count": 11,
   "id": "d571d46c",
   "metadata": {},
   "outputs": [
    {
     "data": {
      "text/html": [
       "<div>\n",
       "<style scoped>\n",
       "    .dataframe tbody tr th:only-of-type {\n",
       "        vertical-align: middle;\n",
       "    }\n",
       "\n",
       "    .dataframe tbody tr th {\n",
       "        vertical-align: top;\n",
       "    }\n",
       "\n",
       "    .dataframe thead th {\n",
       "        text-align: right;\n",
       "    }\n",
       "</style>\n",
       "<table border=\"1\" class=\"dataframe\">\n",
       "  <thead>\n",
       "    <tr style=\"text-align: right;\">\n",
       "      <th></th>\n",
       "      <th>Player_ID</th>\n",
       "      <th>Player_Name</th>\n",
       "      <th>Injury_Type</th>\n",
       "      <th>Reason</th>\n",
       "      <th>Team_ID</th>\n",
       "      <th>Team</th>\n",
       "      <th>Date</th>\n",
       "    </tr>\n",
       "  </thead>\n",
       "  <tbody>\n",
       "    <tr>\n",
       "      <th>0</th>\n",
       "      <td>51617</td>\n",
       "      <td>D. Nunez</td>\n",
       "      <td>Missing Fixture</td>\n",
       "      <td>Knee Injury</td>\n",
       "      <td>211</td>\n",
       "      <td>Benfica</td>\n",
       "      <td>2021-08-18T19:00:00+00:00</td>\n",
       "    </tr>\n",
       "    <tr>\n",
       "      <th>1</th>\n",
       "      <td>582</td>\n",
       "      <td>H. Seferovic</td>\n",
       "      <td>Missing Fixture</td>\n",
       "      <td>Muscle Injury</td>\n",
       "      <td>211</td>\n",
       "      <td>Benfica</td>\n",
       "      <td>2021-08-18T19:00:00+00:00</td>\n",
       "    </tr>\n",
       "    <tr>\n",
       "      <th>2</th>\n",
       "      <td>170</td>\n",
       "      <td>J. Vertonghen</td>\n",
       "      <td>Missing Fixture</td>\n",
       "      <td>Thigh Injury</td>\n",
       "      <td>211</td>\n",
       "      <td>Benfica</td>\n",
       "      <td>2021-08-18T19:00:00+00:00</td>\n",
       "    </tr>\n",
       "    <tr>\n",
       "      <th>3</th>\n",
       "      <td>38714</td>\n",
       "      <td>M. Delanghe</td>\n",
       "      <td>Missing Fixture</td>\n",
       "      <td>Shoulder Injury</td>\n",
       "      <td>197</td>\n",
       "      <td>PSV Eindhoven</td>\n",
       "      <td>2021-08-18T19:00:00+00:00</td>\n",
       "    </tr>\n",
       "    <tr>\n",
       "      <th>4</th>\n",
       "      <td>2598</td>\n",
       "      <td>R. Doan</td>\n",
       "      <td>Missing Fixture</td>\n",
       "      <td>Injury</td>\n",
       "      <td>197</td>\n",
       "      <td>PSV Eindhoven</td>\n",
       "      <td>2021-08-18T19:00:00+00:00</td>\n",
       "    </tr>\n",
       "  </tbody>\n",
       "</table>\n",
       "</div>"
      ],
      "text/plain": [
       "   Player_ID    Player_Name      Injury_Type           Reason  Team_ID  \\\n",
       "0      51617       D. Nunez  Missing Fixture      Knee Injury      211   \n",
       "1        582   H. Seferovic  Missing Fixture    Muscle Injury      211   \n",
       "2        170  J. Vertonghen  Missing Fixture     Thigh Injury      211   \n",
       "3      38714    M. Delanghe  Missing Fixture  Shoulder Injury      197   \n",
       "4       2598        R. Doan  Missing Fixture           Injury      197   \n",
       "\n",
       "            Team                       Date  \n",
       "0        Benfica  2021-08-18T19:00:00+00:00  \n",
       "1        Benfica  2021-08-18T19:00:00+00:00  \n",
       "2        Benfica  2021-08-18T19:00:00+00:00  \n",
       "3  PSV Eindhoven  2021-08-18T19:00:00+00:00  \n",
       "4  PSV Eindhoven  2021-08-18T19:00:00+00:00  "
      ]
     },
     "execution_count": 11,
     "metadata": {},
     "output_type": "execute_result"
    }
   ],
   "source": [
    "df_injuries=pd.DataFrame({\"Player_ID\":injury_player_id, \"Player_Name\":injury_player_name, \"Injury_Type\":injury_type, \n",
    "                          \"Reason\":injury_reason, \"Team_ID\":injury_player_team_id, \"Team\":injury_player_team, \"Date\":injury_date })\n",
    "df_injuries.head()"
   ]
  },
  {
   "cell_type": "code",
   "execution_count": 12,
   "id": "9f8731a4",
   "metadata": {},
   "outputs": [
    {
     "data": {
      "text/plain": [
       "Injury_Type\n",
       "Missing Fixture    853\n",
       "Questionable       104\n",
       "dtype: int64"
      ]
     },
     "execution_count": 12,
     "metadata": {},
     "output_type": "execute_result"
    }
   ],
   "source": [
    "df_injuries.value_counts('Injury_Type')"
   ]
  },
  {
   "cell_type": "code",
   "execution_count": 13,
   "id": "3e3a7eba",
   "metadata": {
    "scrolled": true
   },
   "outputs": [
    {
     "data": {
      "text/plain": [
       "Player_ID      0\n",
       "Player_Name    0\n",
       "Injury_Type    0\n",
       "Reason         0\n",
       "Team_ID        0\n",
       "Team           0\n",
       "Date           0\n",
       "dtype: int64"
      ]
     },
     "execution_count": 13,
     "metadata": {},
     "output_type": "execute_result"
    }
   ],
   "source": [
    "# clean data\n",
    "df_injuries.isnull().sum()"
   ]
  },
  {
   "cell_type": "code",
   "execution_count": 14,
   "id": "061867ac",
   "metadata": {},
   "outputs": [
    {
     "data": {
      "text/plain": [
       "957"
      ]
     },
     "execution_count": 14,
     "metadata": {},
     "output_type": "execute_result"
    }
   ],
   "source": [
    "# insert data to database\n",
    "df_injuries.to_sql('injuries', engine, if_exists=\"replace\", index=False)"
   ]
  },
  {
   "cell_type": "code",
   "execution_count": 15,
   "id": "9bda8f29",
   "metadata": {},
   "outputs": [
    {
     "data": {
      "text/plain": [
       "[Text(0, 0, 'Knee Injury'),\n",
       " Text(1, 0, 'Muscle Injury'),\n",
       " Text(2, 0, 'Injury'),\n",
       " Text(3, 0, 'Thigh Injury'),\n",
       " Text(4, 0, 'Ankle Injury'),\n",
       " Text(5, 0, 'Red Card'),\n",
       " Text(6, 0, 'Illness'),\n",
       " Text(7, 0, 'Achilles Tendon Injury'),\n",
       " Text(8, 0, 'Calf Injury'),\n",
       " Text(9, 0, 'Yellow Cards'),\n",
       " Text(10, 0, 'Groin Injury'),\n",
       " Text(11, 0, 'Leg Injury'),\n",
       " Text(12, 0, 'Foot Injury'),\n",
       " Text(13, 0, 'Hip Injury'),\n",
       " Text(14, 0, 'Knock'),\n",
       " Text(15, 0, \"Coach's decision\"),\n",
       " Text(16, 0, 'Suspended'),\n",
       " Text(17, 0, 'Heart Problems'),\n",
       " Text(18, 0, 'Shoulder Injury'),\n",
       " Text(19, 0, 'Tendon Injury'),\n",
       " Text(20, 0, 'Back Injury'),\n",
       " Text(21, 0, 'Quarantine'),\n",
       " Text(22, 0, 'Heel Injury'),\n",
       " Text(23, 0, 'Inactive'),\n",
       " Text(24, 0, 'Broken Leg'),\n",
       " Text(25, 0, 'Broken ankle'),\n",
       " Text(26, 0, 'Personal Reasons'),\n",
       " Text(27, 0, 'Neck Injury'),\n",
       " Text(28, 0, 'Lacking Match Fitness'),\n",
       " Text(29, 0, 'Eye injury'),\n",
       " Text(30, 0, 'Stomach Disorder'),\n",
       " Text(31, 0, 'Wrist Injury'),\n",
       " Text(32, 0, 'Finger Injury'),\n",
       " Text(33, 0, 'Concussion'),\n",
       " Text(34, 0, 'Ribs Injury'),\n",
       " Text(35, 0, 'Rest'),\n",
       " Text(36, 0, 'Head Injury'),\n",
       " Text(37, 0, 'Broken nose'),\n",
       " Text(38, 0, 'Surgery'),\n",
       " Text(39, 0, 'Contusion'),\n",
       " Text(40, 0, 'Hand Injury'),\n",
       " Text(41, 0, 'Broken Hand')]"
      ]
     },
     "execution_count": 15,
     "metadata": {},
     "output_type": "execute_result"
    },
    {
     "data": {
      "image/png": "[encoded data removed]",
      "text/plain": [
       "<Figure size 1440x595.44 with 1 Axes>"
      ]
     },
     "metadata": {},
     "output_type": "display_data"
    }
   ],
   "source": [
    "# get the most common reason for players injuries \n",
    "import seaborn as sns\n",
    "sns.set(style=\"darkgrid\")\n",
    "sns.set(rc={'figure.figsize':(20,8.27)})\n",
    "new = df_injuries\n",
    "ax = sns.countplot(x=\"Reason\", data=new, order = new['Reason'].value_counts().index)\n",
    "\n",
    "ax.set_xticklabels(ax.get_xticklabels(), rotation=45)"
   ]
  },
  {
   "cell_type": "code",
   "execution_count": 16,
   "id": "e9de9e2c",
   "metadata": {},
   "outputs": [],
   "source": [
    "# get the list of players with history of knee injury\n",
    "df_new_player = df_injuries[(df_injuries['Reason'] == 'Knee Injury')]"
   ]
  },
  {
   "cell_type": "code",
   "execution_count": 17,
   "id": "c65b6d85",
   "metadata": {},
   "outputs": [
    {
     "data": {
      "text/html": [
       "<div>\n",
       "<style scoped>\n",
       "    .dataframe tbody tr th:only-of-type {\n",
       "        vertical-align: middle;\n",
       "    }\n",
       "\n",
       "    .dataframe tbody tr th {\n",
       "        vertical-align: top;\n",
       "    }\n",
       "\n",
       "    .dataframe thead th {\n",
       "        text-align: right;\n",
       "    }\n",
       "</style>\n",
       "<table border=\"1\" class=\"dataframe\">\n",
       "  <thead>\n",
       "    <tr style=\"text-align: right;\">\n",
       "      <th></th>\n",
       "      <th>Player_ID</th>\n",
       "      <th>Player_Name</th>\n",
       "      <th>Injury_Type</th>\n",
       "      <th>Reason</th>\n",
       "      <th>Team_ID</th>\n",
       "      <th>Team</th>\n",
       "      <th>Date</th>\n",
       "    </tr>\n",
       "  </thead>\n",
       "  <tbody>\n",
       "    <tr>\n",
       "      <th>0</th>\n",
       "      <td>51617</td>\n",
       "      <td>D. Nunez</td>\n",
       "      <td>Missing Fixture</td>\n",
       "      <td>Knee Injury</td>\n",
       "      <td>211</td>\n",
       "      <td>Benfica</td>\n",
       "      <td>2021-08-18T19:00:00+00:00</td>\n",
       "    </tr>\n",
       "    <tr>\n",
       "      <th>5</th>\n",
       "      <td>163184</td>\n",
       "      <td>M. Kreekels</td>\n",
       "      <td>Missing Fixture</td>\n",
       "      <td>Knee Injury</td>\n",
       "      <td>197</td>\n",
       "      <td>PSV Eindhoven</td>\n",
       "      <td>2021-08-18T19:00:00+00:00</td>\n",
       "    </tr>\n",
       "    <tr>\n",
       "      <th>6</th>\n",
       "      <td>102851</td>\n",
       "      <td>R. Ledezma</td>\n",
       "      <td>Missing Fixture</td>\n",
       "      <td>Knee Injury</td>\n",
       "      <td>197</td>\n",
       "      <td>PSV Eindhoven</td>\n",
       "      <td>2021-08-18T19:00:00+00:00</td>\n",
       "    </tr>\n",
       "    <tr>\n",
       "      <th>7</th>\n",
       "      <td>194645</td>\n",
       "      <td>S. Sambo</td>\n",
       "      <td>Missing Fixture</td>\n",
       "      <td>Knee Injury</td>\n",
       "      <td>197</td>\n",
       "      <td>PSV Eindhoven</td>\n",
       "      <td>2021-08-18T19:00:00+00:00</td>\n",
       "    </tr>\n",
       "    <tr>\n",
       "      <th>10</th>\n",
       "      <td>2732</td>\n",
       "      <td>J. Knudsen</td>\n",
       "      <td>Missing Fixture</td>\n",
       "      <td>Knee Injury</td>\n",
       "      <td>375</td>\n",
       "      <td>Malmo FF</td>\n",
       "      <td>2021-08-18T19:00:00+00:00</td>\n",
       "    </tr>\n",
       "    <tr>\n",
       "      <th>...</th>\n",
       "      <td>...</td>\n",
       "      <td>...</td>\n",
       "      <td>...</td>\n",
       "      <td>...</td>\n",
       "      <td>...</td>\n",
       "      <td>...</td>\n",
       "      <td>...</td>\n",
       "    </tr>\n",
       "    <tr>\n",
       "      <th>936</th>\n",
       "      <td>288</td>\n",
       "      <td>A. Moreno</td>\n",
       "      <td>Missing Fixture</td>\n",
       "      <td>Knee Injury</td>\n",
       "      <td>533</td>\n",
       "      <td>Villarreal</td>\n",
       "      <td>2022-03-16T20:00:00+00:00</td>\n",
       "    </tr>\n",
       "    <tr>\n",
       "      <th>938</th>\n",
       "      <td>2933</td>\n",
       "      <td>B. Chilwell</td>\n",
       "      <td>Missing Fixture</td>\n",
       "      <td>Knee Injury</td>\n",
       "      <td>49</td>\n",
       "      <td>Chelsea</td>\n",
       "      <td>2022-03-16T20:00:00+00:00</td>\n",
       "    </tr>\n",
       "    <tr>\n",
       "      <th>941</th>\n",
       "      <td>9991</td>\n",
       "      <td>Lucas Verissimo</td>\n",
       "      <td>Missing Fixture</td>\n",
       "      <td>Knee Injury</td>\n",
       "      <td>211</td>\n",
       "      <td>Benfica</td>\n",
       "      <td>2022-04-05T19:00:00+00:00</td>\n",
       "    </tr>\n",
       "    <tr>\n",
       "      <th>950</th>\n",
       "      <td>2933</td>\n",
       "      <td>B. Chilwell</td>\n",
       "      <td>Missing Fixture</td>\n",
       "      <td>Knee Injury</td>\n",
       "      <td>49</td>\n",
       "      <td>Chelsea</td>\n",
       "      <td>2022-04-06T19:00:00+00:00</td>\n",
       "    </tr>\n",
       "    <tr>\n",
       "      <th>955</th>\n",
       "      <td>288</td>\n",
       "      <td>A. Moreno</td>\n",
       "      <td>Missing Fixture</td>\n",
       "      <td>Knee Injury</td>\n",
       "      <td>533</td>\n",
       "      <td>Villarreal</td>\n",
       "      <td>2022-04-06T19:00:00+00:00</td>\n",
       "    </tr>\n",
       "  </tbody>\n",
       "</table>\n",
       "<p>204 rows × 7 columns</p>\n",
       "</div>"
      ],
      "text/plain": [
       "     Player_ID      Player_Name      Injury_Type       Reason  Team_ID  \\\n",
       "0        51617         D. Nunez  Missing Fixture  Knee Injury      211   \n",
       "5       163184      M. Kreekels  Missing Fixture  Knee Injury      197   \n",
       "6       102851       R. Ledezma  Missing Fixture  Knee Injury      197   \n",
       "7       194645         S. Sambo  Missing Fixture  Knee Injury      197   \n",
       "10        2732       J. Knudsen  Missing Fixture  Knee Injury      375   \n",
       "..         ...              ...              ...          ...      ...   \n",
       "936        288        A. Moreno  Missing Fixture  Knee Injury      533   \n",
       "938       2933      B. Chilwell  Missing Fixture  Knee Injury       49   \n",
       "941       9991  Lucas Verissimo  Missing Fixture  Knee Injury      211   \n",
       "950       2933      B. Chilwell  Missing Fixture  Knee Injury       49   \n",
       "955        288        A. Moreno  Missing Fixture  Knee Injury      533   \n",
       "\n",
       "              Team                       Date  \n",
       "0          Benfica  2021-08-18T19:00:00+00:00  \n",
       "5    PSV Eindhoven  2021-08-18T19:00:00+00:00  \n",
       "6    PSV Eindhoven  2021-08-18T19:00:00+00:00  \n",
       "7    PSV Eindhoven  2021-08-18T19:00:00+00:00  \n",
       "10        Malmo FF  2021-08-18T19:00:00+00:00  \n",
       "..             ...                        ...  \n",
       "936     Villarreal  2022-03-16T20:00:00+00:00  \n",
       "938        Chelsea  2022-03-16T20:00:00+00:00  \n",
       "941        Benfica  2022-04-05T19:00:00+00:00  \n",
       "950        Chelsea  2022-04-06T19:00:00+00:00  \n",
       "955     Villarreal  2022-04-06T19:00:00+00:00  \n",
       "\n",
       "[204 rows x 7 columns]"
      ]
     },
     "execution_count": 17,
     "metadata": {},
     "output_type": "execute_result"
    }
   ],
   "source": [
    "df_new_player"
   ]
  },
  {
   "cell_type": "code",
   "execution_count": 18,
   "id": "64be71ca",
   "metadata": {},
   "outputs": [
    {
     "data": {
      "text/plain": [
       "Team\n",
       "Malmo FF                  23\n",
       "Red Bull Salzburg         14\n",
       "Borussia Dortmund         14\n",
       "Barcelona                 13\n",
       "VfL Wolfsburg             12\n",
       "Dynamo Kyiv               10\n",
       "Shakhtar Donetsk          10\n",
       "RB Leipzig                10\n",
       "AC Milan                   9\n",
       "Ajax                       9\n",
       "Juventus                   8\n",
       "Benfica                    7\n",
       "BSC Young Boys             6\n",
       "Besiktas                   6\n",
       "Bayern Munich              6\n",
       "Chelsea                    5\n",
       "Inter                      5\n",
       "Paris Saint Germain        5\n",
       "PSV Eindhoven              4\n",
       "Atletico Madrid            4\n",
       "Sporting CP                4\n",
       "Zenit Saint Petersburg     4\n",
       "FC Porto                   3\n",
       "Villarreal                 3\n",
       "Real Madrid                2\n",
       "Lille                      2\n",
       "Club Brugge KV             2\n",
       "Monaco                     1\n",
       "Manchester United          1\n",
       "Manchester City            1\n",
       "Brondby                    1\n",
       "dtype: int64"
      ]
     },
     "execution_count": 18,
     "metadata": {},
     "output_type": "execute_result"
    }
   ],
   "source": [
    "# teams with most number of players prone to knee injury\n",
    "df_new_player.value_counts('Team')"
   ]
  },
  {
   "cell_type": "code",
   "execution_count": null,
   "id": "7105e366",
   "metadata": {},
   "outputs": [],
   "source": []
  },
  {
   "cell_type": "code",
   "execution_count": null,
   "id": "2195c895",
   "metadata": {},
   "outputs": [],
   "source": []
  }
 ],
 "metadata": {
  "kernelspec": {
   "display_name": "Python 3 (ipykernel)",
   "language": "python",
   "name": "python3"
  },
  "language_info": {
   "codemirror_mode": {
    "name": "ipython",
    "version": 3
   },
   "file_extension": ".py",
   "mimetype": "text/x-python",
   "name": "python",
   "nbconvert_exporter": "python",
   "pygments_lexer": "ipython3",
   "version": "3.9.12"
  }
 },
 "nbformat": 4,
 "nbformat_minor": 5
}
